{
  "nbformat": 4,
  "nbformat_minor": 0,
  "metadata": {
    "kernelspec": {
      "display_name": "Python 3",
      "language": "python",
      "name": "python3"
    },
    "language_info": {
      "codemirror_mode": {
        "name": "ipython",
        "version": 3
      },
      "file_extension": ".py",
      "mimetype": "text/x-python",
      "name": "python",
      "nbconvert_exporter": "python",
      "pygments_lexer": "ipython3",
      "version": "3.7.6"
    },
    "colab": {
      "name": "loan_approval_analysis.ipynb",
      "provenance": [],
      "collapsed_sections": [],
      "include_colab_link": true
    }
  },
  "cells": [
    {
      "cell_type": "markdown",
      "metadata": {
        "id": "view-in-github",
        "colab_type": "text"
      },
      "source": [
        "<a href=\"https://colab.research.google.com/github/silpa1989/fruit/blob/main/loan_approval_analysis.ipynb\" target=\"_parent\"><img src=\"https://colab.research.google.com/assets/colab-badge.svg\" alt=\"Open In Colab\"/></a>"
      ]
    },
    {
      "cell_type": "markdown",
      "metadata": {
        "id": "21dj3bbJqnlO"
      },
      "source": [
        "## Problem Statement\n",
        "\n",
        "Dream Housing Finance Inc. specializes in home loans across different market segments - rural, urban and semi-urban.  Thier loan eligibility process is based on customer details provided while filling an online application form. To create a targeted marketing campaign for different segments, they have asked for a comprehensive analysis of the data collected so far.\n",
        "\n",
        "## About the Dataset\n",
        "The dataset has details of 614 customers with the following 13 features\n",
        "\n",
        "|Feature|Description|\n",
        "|-----|-----|\n",
        "|Loan_ID|Unique Loan ID|\n",
        "|Gender|Male/Female|\n",
        "|Married|Applicant Married (Y/N)|\n",
        "|Dependents|Number of dependents|\n",
        "|Education|Graduate/Under Graduate|\n",
        "|Self_Employed|Self employed (Y/N)|\n",
        "|ApplicantIncome|Income of the applicant|\n",
        "|CoapplicantIncome|Income of the co-applicant|\n",
        "|LoanAmount|Loan amount in thousands|\n",
        "|Loan_Amount_Term|Term of loan in months|\n",
        "|Credit_History|credit history meets guidelines}|\n",
        "|Property_Area| Urban/Semi-Urban/Rural|\n",
        "|Loan_Status|Loan approved (Y/N)|\n",
        "\n",
        "\n",
        "\n",
        "Our major work for this project involves data analysis using Pandas. \n",
        "\n",
        "## Why solve this project ?\n",
        "\n",
        "After completing this project, you will have better grip on working with pandas. In this project you will apply following concepts.\n",
        "\n",
        " \n",
        "- Dataframe slicing \n",
        "- Dataframe aggregation \n",
        "- Pivot table operations"
      ]
    },
    {
      "cell_type": "code",
      "metadata": {
        "id": "pPRJ0G8_qnlU",
        "colab": {
          "base_uri": "https://localhost:8080/",
          "height": 456
        },
        "outputId": "0be09f8a-d216-464b-904b-3a366f28874a"
      },
      "source": [
        "# Import packages\n",
        "import numpy as np\n",
        "import pandas as pd\n",
        "from scipy.stats import mode \n",
        "df=pd.read_csv(\"https://raw.githubusercontent.com/rkkirpane/ADV-PRO-APT-Capstone-Project/main/data.csv\")\n",
        "df"
      ],
      "execution_count": 1,
      "outputs": [
        {
          "output_type": "execute_result",
          "data": {
            "text/html": [
              "<div>\n",
              "<style scoped>\n",
              "    .dataframe tbody tr th:only-of-type {\n",
              "        vertical-align: middle;\n",
              "    }\n",
              "\n",
              "    .dataframe tbody tr th {\n",
              "        vertical-align: top;\n",
              "    }\n",
              "\n",
              "    .dataframe thead th {\n",
              "        text-align: right;\n",
              "    }\n",
              "</style>\n",
              "<table border=\"1\" class=\"dataframe\">\n",
              "  <thead>\n",
              "    <tr style=\"text-align: right;\">\n",
              "      <th></th>\n",
              "      <th>Loan_ID</th>\n",
              "      <th>Gender</th>\n",
              "      <th>Married</th>\n",
              "      <th>Dependents</th>\n",
              "      <th>Education</th>\n",
              "      <th>Self_Employed</th>\n",
              "      <th>ApplicantIncome</th>\n",
              "      <th>CoapplicantIncome</th>\n",
              "      <th>LoanAmount</th>\n",
              "      <th>Loan_Amount_Term</th>\n",
              "      <th>Credit_History</th>\n",
              "      <th>Property_Area</th>\n",
              "      <th>Loan_Status</th>\n",
              "    </tr>\n",
              "  </thead>\n",
              "  <tbody>\n",
              "    <tr>\n",
              "      <th>0</th>\n",
              "      <td>LP001002</td>\n",
              "      <td>Male</td>\n",
              "      <td>No</td>\n",
              "      <td>0</td>\n",
              "      <td>Graduate</td>\n",
              "      <td>No</td>\n",
              "      <td>5849</td>\n",
              "      <td>0.0</td>\n",
              "      <td>NaN</td>\n",
              "      <td>360.0</td>\n",
              "      <td>1.0</td>\n",
              "      <td>Urban</td>\n",
              "      <td>Y</td>\n",
              "    </tr>\n",
              "    <tr>\n",
              "      <th>1</th>\n",
              "      <td>LP001003</td>\n",
              "      <td>Male</td>\n",
              "      <td>Yes</td>\n",
              "      <td>1</td>\n",
              "      <td>Graduate</td>\n",
              "      <td>No</td>\n",
              "      <td>4583</td>\n",
              "      <td>1508.0</td>\n",
              "      <td>128.0</td>\n",
              "      <td>360.0</td>\n",
              "      <td>1.0</td>\n",
              "      <td>Rural</td>\n",
              "      <td>N</td>\n",
              "    </tr>\n",
              "    <tr>\n",
              "      <th>2</th>\n",
              "      <td>LP001005</td>\n",
              "      <td>Male</td>\n",
              "      <td>Yes</td>\n",
              "      <td>0</td>\n",
              "      <td>Graduate</td>\n",
              "      <td>Yes</td>\n",
              "      <td>3000</td>\n",
              "      <td>0.0</td>\n",
              "      <td>66.0</td>\n",
              "      <td>360.0</td>\n",
              "      <td>1.0</td>\n",
              "      <td>Urban</td>\n",
              "      <td>Y</td>\n",
              "    </tr>\n",
              "    <tr>\n",
              "      <th>3</th>\n",
              "      <td>LP001006</td>\n",
              "      <td>Male</td>\n",
              "      <td>Yes</td>\n",
              "      <td>0</td>\n",
              "      <td>Not Graduate</td>\n",
              "      <td>No</td>\n",
              "      <td>2583</td>\n",
              "      <td>2358.0</td>\n",
              "      <td>120.0</td>\n",
              "      <td>360.0</td>\n",
              "      <td>1.0</td>\n",
              "      <td>Urban</td>\n",
              "      <td>Y</td>\n",
              "    </tr>\n",
              "    <tr>\n",
              "      <th>4</th>\n",
              "      <td>LP001008</td>\n",
              "      <td>Male</td>\n",
              "      <td>No</td>\n",
              "      <td>0</td>\n",
              "      <td>Graduate</td>\n",
              "      <td>No</td>\n",
              "      <td>6000</td>\n",
              "      <td>0.0</td>\n",
              "      <td>141.0</td>\n",
              "      <td>360.0</td>\n",
              "      <td>1.0</td>\n",
              "      <td>Urban</td>\n",
              "      <td>Y</td>\n",
              "    </tr>\n",
              "    <tr>\n",
              "      <th>...</th>\n",
              "      <td>...</td>\n",
              "      <td>...</td>\n",
              "      <td>...</td>\n",
              "      <td>...</td>\n",
              "      <td>...</td>\n",
              "      <td>...</td>\n",
              "      <td>...</td>\n",
              "      <td>...</td>\n",
              "      <td>...</td>\n",
              "      <td>...</td>\n",
              "      <td>...</td>\n",
              "      <td>...</td>\n",
              "      <td>...</td>\n",
              "    </tr>\n",
              "    <tr>\n",
              "      <th>609</th>\n",
              "      <td>LP002978</td>\n",
              "      <td>Female</td>\n",
              "      <td>No</td>\n",
              "      <td>0</td>\n",
              "      <td>Graduate</td>\n",
              "      <td>No</td>\n",
              "      <td>2900</td>\n",
              "      <td>0.0</td>\n",
              "      <td>71.0</td>\n",
              "      <td>360.0</td>\n",
              "      <td>1.0</td>\n",
              "      <td>Rural</td>\n",
              "      <td>Y</td>\n",
              "    </tr>\n",
              "    <tr>\n",
              "      <th>610</th>\n",
              "      <td>LP002979</td>\n",
              "      <td>Male</td>\n",
              "      <td>Yes</td>\n",
              "      <td>3+</td>\n",
              "      <td>Graduate</td>\n",
              "      <td>No</td>\n",
              "      <td>4106</td>\n",
              "      <td>0.0</td>\n",
              "      <td>40.0</td>\n",
              "      <td>180.0</td>\n",
              "      <td>1.0</td>\n",
              "      <td>Rural</td>\n",
              "      <td>Y</td>\n",
              "    </tr>\n",
              "    <tr>\n",
              "      <th>611</th>\n",
              "      <td>LP002983</td>\n",
              "      <td>Male</td>\n",
              "      <td>Yes</td>\n",
              "      <td>1</td>\n",
              "      <td>Graduate</td>\n",
              "      <td>No</td>\n",
              "      <td>8072</td>\n",
              "      <td>240.0</td>\n",
              "      <td>253.0</td>\n",
              "      <td>360.0</td>\n",
              "      <td>1.0</td>\n",
              "      <td>Urban</td>\n",
              "      <td>Y</td>\n",
              "    </tr>\n",
              "    <tr>\n",
              "      <th>612</th>\n",
              "      <td>LP002984</td>\n",
              "      <td>Male</td>\n",
              "      <td>Yes</td>\n",
              "      <td>2</td>\n",
              "      <td>Graduate</td>\n",
              "      <td>No</td>\n",
              "      <td>7583</td>\n",
              "      <td>0.0</td>\n",
              "      <td>187.0</td>\n",
              "      <td>360.0</td>\n",
              "      <td>1.0</td>\n",
              "      <td>Urban</td>\n",
              "      <td>Y</td>\n",
              "    </tr>\n",
              "    <tr>\n",
              "      <th>613</th>\n",
              "      <td>LP002990</td>\n",
              "      <td>Female</td>\n",
              "      <td>No</td>\n",
              "      <td>0</td>\n",
              "      <td>Graduate</td>\n",
              "      <td>Yes</td>\n",
              "      <td>4583</td>\n",
              "      <td>0.0</td>\n",
              "      <td>133.0</td>\n",
              "      <td>360.0</td>\n",
              "      <td>0.0</td>\n",
              "      <td>Semiurban</td>\n",
              "      <td>N</td>\n",
              "    </tr>\n",
              "  </tbody>\n",
              "</table>\n",
              "<p>614 rows × 13 columns</p>\n",
              "</div>"
            ],
            "text/plain": [
              "      Loan_ID  Gender Married  ... Credit_History Property_Area Loan_Status\n",
              "0    LP001002    Male      No  ...            1.0         Urban           Y\n",
              "1    LP001003    Male     Yes  ...            1.0         Rural           N\n",
              "2    LP001005    Male     Yes  ...            1.0         Urban           Y\n",
              "3    LP001006    Male     Yes  ...            1.0         Urban           Y\n",
              "4    LP001008    Male      No  ...            1.0         Urban           Y\n",
              "..        ...     ...     ...  ...            ...           ...         ...\n",
              "609  LP002978  Female      No  ...            1.0         Rural           Y\n",
              "610  LP002979    Male     Yes  ...            1.0         Rural           Y\n",
              "611  LP002983    Male     Yes  ...            1.0         Urban           Y\n",
              "612  LP002984    Male     Yes  ...            1.0         Urban           Y\n",
              "613  LP002990  Female      No  ...            0.0     Semiurban           N\n",
              "\n",
              "[614 rows x 13 columns]"
            ]
          },
          "metadata": {
            "tags": []
          },
          "execution_count": 1
        }
      ]
    },
    {
      "cell_type": "markdown",
      "metadata": {
        "id": "ySsfd9gIqnlV"
      },
      "source": [
        "## Task 1\n",
        "**Let's check which variable is categorical and which one is numerical so that you will get a basic idea about the features of the bank dataset.**\n",
        "\n",
        "#### Instructions :\n",
        "\n",
        "- Create dataframe `bank` by passing the `path` of the file\n",
        "\n",
        "\n",
        "- Create the variable `'categorical_var'` and using `'df.select_dtypes(include = 'object')'` check all categorical values.  \n",
        "\n",
        "\n",
        "- print `'categorical_var'`\n",
        "\n",
        "\n",
        "- Create the variable `'numerical_var'` and using `'df.select_dtypes(include = 'number')'` check all categorical values.\n",
        "\n",
        "\n",
        "- print `'numerical_var'`"
      ]
    },
    {
      "cell_type": "code",
      "metadata": {
        "id": "u-r4OsUQqnlV",
        "colab": {
          "base_uri": "https://localhost:8080/",
          "height": 453
        },
        "outputId": "03084560-2a12-414a-c1c4-8bdaf8eea6b4"
      },
      "source": [
        "print(\"Printing Categorical Values\")\r\n",
        "df.select_dtypes(include='object')\r\n",
        "print(\"Printing Numaricalrical Values\")\r\n",
        "df.select_dtypes(include='number')"
      ],
      "execution_count": 3,
      "outputs": [
        {
          "output_type": "stream",
          "text": [
            "Printing Categorical Values\n",
            "Printing Numaricalrical Values\n"
          ],
          "name": "stdout"
        },
        {
          "output_type": "execute_result",
          "data": {
            "text/html": [
              "<div>\n",
              "<style scoped>\n",
              "    .dataframe tbody tr th:only-of-type {\n",
              "        vertical-align: middle;\n",
              "    }\n",
              "\n",
              "    .dataframe tbody tr th {\n",
              "        vertical-align: top;\n",
              "    }\n",
              "\n",
              "    .dataframe thead th {\n",
              "        text-align: right;\n",
              "    }\n",
              "</style>\n",
              "<table border=\"1\" class=\"dataframe\">\n",
              "  <thead>\n",
              "    <tr style=\"text-align: right;\">\n",
              "      <th></th>\n",
              "      <th>ApplicantIncome</th>\n",
              "      <th>CoapplicantIncome</th>\n",
              "      <th>LoanAmount</th>\n",
              "      <th>Loan_Amount_Term</th>\n",
              "      <th>Credit_History</th>\n",
              "    </tr>\n",
              "  </thead>\n",
              "  <tbody>\n",
              "    <tr>\n",
              "      <th>0</th>\n",
              "      <td>5849</td>\n",
              "      <td>0.0</td>\n",
              "      <td>NaN</td>\n",
              "      <td>360.0</td>\n",
              "      <td>1.0</td>\n",
              "    </tr>\n",
              "    <tr>\n",
              "      <th>1</th>\n",
              "      <td>4583</td>\n",
              "      <td>1508.0</td>\n",
              "      <td>128.0</td>\n",
              "      <td>360.0</td>\n",
              "      <td>1.0</td>\n",
              "    </tr>\n",
              "    <tr>\n",
              "      <th>2</th>\n",
              "      <td>3000</td>\n",
              "      <td>0.0</td>\n",
              "      <td>66.0</td>\n",
              "      <td>360.0</td>\n",
              "      <td>1.0</td>\n",
              "    </tr>\n",
              "    <tr>\n",
              "      <th>3</th>\n",
              "      <td>2583</td>\n",
              "      <td>2358.0</td>\n",
              "      <td>120.0</td>\n",
              "      <td>360.0</td>\n",
              "      <td>1.0</td>\n",
              "    </tr>\n",
              "    <tr>\n",
              "      <th>4</th>\n",
              "      <td>6000</td>\n",
              "      <td>0.0</td>\n",
              "      <td>141.0</td>\n",
              "      <td>360.0</td>\n",
              "      <td>1.0</td>\n",
              "    </tr>\n",
              "    <tr>\n",
              "      <th>...</th>\n",
              "      <td>...</td>\n",
              "      <td>...</td>\n",
              "      <td>...</td>\n",
              "      <td>...</td>\n",
              "      <td>...</td>\n",
              "    </tr>\n",
              "    <tr>\n",
              "      <th>609</th>\n",
              "      <td>2900</td>\n",
              "      <td>0.0</td>\n",
              "      <td>71.0</td>\n",
              "      <td>360.0</td>\n",
              "      <td>1.0</td>\n",
              "    </tr>\n",
              "    <tr>\n",
              "      <th>610</th>\n",
              "      <td>4106</td>\n",
              "      <td>0.0</td>\n",
              "      <td>40.0</td>\n",
              "      <td>180.0</td>\n",
              "      <td>1.0</td>\n",
              "    </tr>\n",
              "    <tr>\n",
              "      <th>611</th>\n",
              "      <td>8072</td>\n",
              "      <td>240.0</td>\n",
              "      <td>253.0</td>\n",
              "      <td>360.0</td>\n",
              "      <td>1.0</td>\n",
              "    </tr>\n",
              "    <tr>\n",
              "      <th>612</th>\n",
              "      <td>7583</td>\n",
              "      <td>0.0</td>\n",
              "      <td>187.0</td>\n",
              "      <td>360.0</td>\n",
              "      <td>1.0</td>\n",
              "    </tr>\n",
              "    <tr>\n",
              "      <th>613</th>\n",
              "      <td>4583</td>\n",
              "      <td>0.0</td>\n",
              "      <td>133.0</td>\n",
              "      <td>360.0</td>\n",
              "      <td>0.0</td>\n",
              "    </tr>\n",
              "  </tbody>\n",
              "</table>\n",
              "<p>614 rows × 5 columns</p>\n",
              "</div>"
            ],
            "text/plain": [
              "     ApplicantIncome  CoapplicantIncome  ...  Loan_Amount_Term  Credit_History\n",
              "0               5849                0.0  ...             360.0             1.0\n",
              "1               4583             1508.0  ...             360.0             1.0\n",
              "2               3000                0.0  ...             360.0             1.0\n",
              "3               2583             2358.0  ...             360.0             1.0\n",
              "4               6000                0.0  ...             360.0             1.0\n",
              "..               ...                ...  ...               ...             ...\n",
              "609             2900                0.0  ...             360.0             1.0\n",
              "610             4106                0.0  ...             180.0             1.0\n",
              "611             8072              240.0  ...             360.0             1.0\n",
              "612             7583                0.0  ...             360.0             1.0\n",
              "613             4583                0.0  ...             360.0             0.0\n",
              "\n",
              "[614 rows x 5 columns]"
            ]
          },
          "metadata": {
            "tags": []
          },
          "execution_count": 3
        }
      ]
    },
    {
      "cell_type": "markdown",
      "metadata": {
        "id": "wHWlHGfPqnlV"
      },
      "source": [
        "## Task 2\n",
        "\n",
        "**Sometimes customers forget to fill in all the details or they don't want to share other details. Because of that, some of the fields in the dataset will have missing values. Now you have to check which columns have missing values and also check the count of missing values each column has. If you get the columns that have missing values, try to fill them.**\n",
        "\n",
        "\n",
        "#### Instructions :\n",
        "\n",
        "- From the dataframe `bank`, drop the column `Loan_ID` to create a new dataframe `banks`\n",
        "\n",
        "- To see the null values, use `\"isnull().sum()\"` function and print it.\n",
        "\n",
        "- Calculate `mode` for the dataframe `banks` and store in `bank_mode`\n",
        "\n",
        "- Fill missing(NaN) values of `banks` with `bank_mode` and store the cleaned dataframe back in `banks`. \n",
        "\n",
        "-  Check if all the missing values `(NaN)` are filled."
      ]
    },
    {
      "cell_type": "code",
      "metadata": {
        "id": "xeFlpjRRjkI9"
      },
      "source": [
        ""
      ],
      "execution_count": null,
      "outputs": []
    },
    {
      "cell_type": "code",
      "metadata": {
        "id": "RrDgk3tejb0B"
      },
      "source": [
        "df.drop(['Loan_ID'],axis=1)\r\n"
      ],
      "execution_count": null,
      "outputs": []
    },
    {
      "cell_type": "code",
      "metadata": {
        "id": "pzXsF-qbjWYn"
      },
      "source": [
        "print(\"Sum of  all null values in each col\")\r\n",
        "for col in df:\r\n",
        "  print(sum(pd.isnull(df[col])))"
      ],
      "execution_count": null,
      "outputs": []
    },
    {
      "cell_type": "code",
      "metadata": {
        "id": "Z_Tf_2v_qnlV"
      },
      "source": [
        "\r\n",
        "banks=df.mode(axis='columns',numeric_only=True)\r\n",
        "banks\r\n"
      ],
      "execution_count": null,
      "outputs": []
    },
    {
      "cell_type": "code",
      "metadata": {
        "id": "fe1ENXP-7WAc"
      },
      "source": [
        "df.fillna(bank_mode)\r\n",
        "banks"
      ],
      "execution_count": null,
      "outputs": []
    },
    {
      "cell_type": "code",
      "metadata": {
        "id": "Y6swmeS273KG"
      },
      "source": [
        "bank_mode=banks.copy()\r\n",
        "bank_mode"
      ],
      "execution_count": null,
      "outputs": []
    },
    {
      "cell_type": "code",
      "metadata": {
        "id": "vN2yl1tD7Vzf"
      },
      "source": [
        "df.replace(np.nan,0)"
      ],
      "execution_count": null,
      "outputs": []
    },
    {
      "cell_type": "markdown",
      "metadata": {
        "id": "AYRhVW_yqnlW"
      },
      "source": [
        "## Task 3\n",
        "\n",
        "**Now let's check the loan amount of an average person based on  `'Gender', 'Married', 'Self_Employed' `.  This will give a basic idea of the average loan amount of a person.**\n",
        "\n",
        "\n",
        "#### Instructions :\n",
        "\n",
        "- We will use previously created dataframe `banks` for this task.\n",
        "- Generate a pivot table with index as `'Gender', 'Married', 'Self_Employed'` and values as `'LoanAmount'`,  using `mean aggregation`\n",
        "\n",
        "\n",
        "- Store the result in a variable called `'avg_loan_amount'`\n",
        "\n",
        "\n"
      ]
    },
    {
      "cell_type": "code",
      "metadata": {
        "id": "0aBuEQoUqnlW"
      },
      "source": [
        "#Generate a pivot table with index\r\n",
        "avg_loan_amount=df.pivot_table(index=['Gender','Married','self_employed'],values=['LoanAmount'])\r\n",
        "avg_loan_amount"
      ],
      "execution_count": null,
      "outputs": []
    },
    {
      "cell_type": "code",
      "metadata": {
        "id": "oVjavU0D9elX"
      },
      "source": [
        ""
      ],
      "execution_count": null,
      "outputs": []
    },
    {
      "cell_type": "code",
      "metadata": {
        "id": "YzpNnVCo9eWP"
      },
      "source": [
        ""
      ],
      "execution_count": null,
      "outputs": []
    },
    {
      "cell_type": "markdown",
      "metadata": {
        "id": "YZeVS3H9qnlW"
      },
      "source": [
        "## Task 4\n",
        "\n",
        "**Now let's check the percentage of loan approved based on a person's employment type.**\n",
        "\n",
        "\n",
        "#### Instructions:\n",
        "\n",
        "- We will use the previously created dataframe `banks` for this task.\n",
        "\n",
        "- Create variable `'loan_approved_se'` and store the count of results where `Self_Employed` == `Yes ` and `Loan_Status` == `Y`.\n",
        "\n",
        "- Create variable `'loan_approved_nse'` and store the count of results where `Self_Employed` == `No ` and `Loan_Status` == `Y`.\n",
        "\n",
        "- `Loan_Status` count is given as `614`.\n",
        "\n",
        "- Calculate the percentage of loan approval for self-employed people and store result in variable `'percentage_se'`. \n",
        "\n",
        "- Calculate the percentage of loan approval for people who are not self-employed and store the result in variable `'percentage_nse'`.\n",
        "\n"
      ]
    },
    {
      "cell_type": "code",
      "metadata": {
        "id": "iMTOeoRtqnlX"
      },
      "source": [
        ""
      ],
      "execution_count": 1,
      "outputs": []
    },
    {
      "cell_type": "markdown",
      "metadata": {
        "id": "--rEcaEDqnlX"
      },
      "source": [
        "## Task 5\n",
        "\n",
        "**A government audit is happening real soon! So the company wants to find out those applicants with long loan amount term.**  \n",
        "\n",
        "#### Instructions:\n",
        "\n",
        "- Use `\"apply()\"` function to convert `Loan_Amount_Term`  which is in months to a year and store the result in a variable `'loan_term'`.\n",
        "\n",
        "- Find the number of applicants having loan amount term greater than or equal to 25 years and store them in a variable called `'big_loan_term'`.\n",
        "\n"
      ]
    },
    {
      "cell_type": "code",
      "metadata": {
        "id": "RjCJd-_eqnlX"
      },
      "source": [
        ""
      ],
      "execution_count": null,
      "outputs": []
    },
    {
      "cell_type": "markdown",
      "metadata": {
        "id": "JP7bJe7TqnlX"
      },
      "source": [
        "## Task 6\n",
        "\n",
        "**Now let's check the average income of an applicant and the average loan given to a person based on their income.**\n",
        "\n",
        "\n",
        "#### Instructions :\n",
        "\n",
        "- Groupby the `'banks'` dataframe by `Loan_Status` and store the result in a variable called `'loan_groupby'`\n",
        "\n",
        "- Subset `'loan_groupby'` to include only  `['ApplicantIncome', 'Credit_History']` and store the subsetted dataframe back in `'loan_groupby'`\n",
        "\n",
        "- Then find the `mean` of `'loan_groupby'` and store the result in a new variable `'mean_values'`\n",
        "\n",
        "\n"
      ]
    },
    {
      "cell_type": "code",
      "metadata": {
        "id": "5RYmW1SnqnlX"
      },
      "source": [
        ""
      ],
      "execution_count": null,
      "outputs": []
    },
    {
      "cell_type": "markdown",
      "metadata": {
        "id": "t59pLKJ7qnlY"
      },
      "source": [
        ""
      ]
    }
  ]
}